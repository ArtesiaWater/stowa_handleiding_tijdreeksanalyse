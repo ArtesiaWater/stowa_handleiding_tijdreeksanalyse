{
 "cells": [
  {
   "cell_type": "markdown",
   "metadata": {},
   "source": [
    "# Model structuur\n",
    "*Auteurs: R.A. Collenteur*\n",
    "\n",
    "Een belangrijke stap in tijdreeksanalyse is het bepalen van de modelstructuur. Dit is het onderwerp van dit hoofdstuk. We beperken ons hier tot het bepalen van het deterministische deel van het model, het bepalen van het ruismodel is onderdeel van een ander hoofdstuk. Voor het bepalen van de gewenste modelstructuur is het belangrijk om vast te stellen wat het doel van het tijdreeksmodel is. In dit hoofdstuk wordt een overzicht gegeven van de verschillende opties die mogelijk zijn bij het bepalen van de modelstructuur.  \n",
    "\n",
    "## Inhoudsopgave\n",
    "\n",
    "- [Response functies](#Respons-functies)\n",
    "- [Effect van neerslag en verdamping]()\n",
    "- [Drempel niet-lineariteit]()\n",
    "- [Veranderende systemen]()\n",
    "- [Welke invloeden moeten worden meegenomen]()\n",
    "- [Referenties]()\n",
    "\n",
    "## Overwegingen\n",
    "\n",
    "- Aantal parameters\n",
    "- Doel van modellering\n",
    "- Residuen analyse voor missende variabelen\n",
    "- \n"
   ]
  },
  {
   "cell_type": "code",
   "execution_count": 2,
   "metadata": {},
   "outputs": [
    {
     "name": "stdout",
     "output_type": "stream",
     "text": [
      "Python version: 3.7.8 | packaged by conda-forge | (default, Jul 31 2020, 02:37:09) \n",
      "[Clang 10.0.1 ]\n",
      "Numpy version: 1.18.5\n",
      "Scipy version: 1.4.0\n",
      "Pandas version: 1.1.2\n",
      "Pastas version: 0.16.0b\n",
      "Matplotlib version: 3.1.3\n"
     ]
    }
   ],
   "source": [
    "import pastas as ps\n",
    "ps.show_versions()"
   ]
  },
  {
   "cell_type": "markdown",
   "metadata": {},
   "source": [
    "## Effect van neerslag en verdamping\n",
    "\n",
    "- Neerslag en verdamping met aparte respons functies\n",
    "- Netto neerslagoverschot (N = P-fE) en 1 respons functie \n",
    "- Niet-lineaire grondwateraanvulling en 1 response functie"
   ]
  },
  {
   "cell_type": "code",
   "execution_count": null,
   "metadata": {},
   "outputs": [],
   "source": [
    "# Voorbeeld van neerslag en verdamping met aparte respons functies"
   ]
  },
  {
   "cell_type": "code",
   "execution_count": null,
   "metadata": {},
   "outputs": [],
   "source": [
    "# Voorbeeld van netto neerslagoverschot (N = P-fE) en gamma respons functie"
   ]
  },
  {
   "cell_type": "code",
   "execution_count": null,
   "metadata": {},
   "outputs": [],
   "source": [
    "# Voorbeeld van Niet-lineaire grondwateraanvulling en exponentiele response functie"
   ]
  },
  {
   "cell_type": "markdown",
   "metadata": {},
   "source": [
    "## Respons functies\n",
    "\n",
    "Er zijn tal van respons functies die kunnen worden gekozen om een verklarende tijdreeks om te zetten in een bijdrage aan de grondwaterstandsfluctuaties. De keuze voor een bepaalde respons functie kan bijvoorbeeld afhangen van het type verklarende reeks (bv. neerslag of een rivier), maar ook van het systeem (dikke of dunne overzadigde zone). Voor het effect van neerslag en verdamping wordt vaak een vorm van de 4 parameter gamma functie gebruikt. Afhankelijk van het systeem kunnen bepaalde parameters worden vastgezet, wat het aantal te schatten parameters verlaagt. Het dient over het algemeen aanbeveling verschillende response functie te testen. \n",
    "\n",
    "\n",
    "- een niet-lineair grondwateraanvulling model simuleert ook vertraging, vaak kan dan een Exponentiele functie ipv een Gamma worden gebruikt.\n",
    "- Als $n=±1$, dan kan de Exponentiele functie worden gebruikt ipv Gamma.\n",
    "- Bij een dikke onverzadigde zone kan een 4-parameter Gamma functie worden gebruikt.\n"
   ]
  },
  {
   "cell_type": "code",
   "execution_count": null,
   "metadata": {},
   "outputs": [],
   "source": [
    "# Voorbeeld van Gamma response functie waar n=1, en hetzelfde model met een exponentiele functie"
   ]
  },
  {
   "cell_type": "code",
   "execution_count": null,
   "metadata": {},
   "outputs": [],
   "source": [
    "# Voorbeeld van Hantush response functie?"
   ]
  },
  {
   "cell_type": "markdown",
   "metadata": {},
   "source": [
    "## Drempel niet-lineariteit\n",
    "Een veelvoorkomend fenomeen in Nederland is drempel niet-lineariteit. Daarbij reageert een grondwatersysteem anders op een impuls (bv. neerslag) nadat een bepaalde grenswaarde in de grondwaterstand is overschreden. Knotter et al. () hebben hiervoor een model ontwikkelt, waarbij de respons op neerslagoverschot afhangt van de grondwaterstand boven of onder een bepaalde drempelwaarde. \n",
    "\n",
    "Of er sprake is van drempel niet-lineariteit kan worden vastgesteld door:\n",
    "\n",
    "1. visuele inspectie, \n",
    "2. testen van verschillende modelstructuren, of \n",
    "3. het plotten van een histogram van de grondwaterstandsmetingen (? idee Raoul)."
   ]
  },
  {
   "cell_type": "code",
   "execution_count": 1,
   "metadata": {},
   "outputs": [],
   "source": [
    "# Plot van tijdreeks waarbij sprake is van drempel niet lineariteit, inclusief histogram aan de zijkant 90 graden gedraaid."
   ]
  },
  {
   "cell_type": "code",
   "execution_count": null,
   "metadata": {},
   "outputs": [],
   "source": [
    "# Plot van lineair model versus een drempel niet-lineair model."
   ]
  },
  {
   "cell_type": "markdown",
   "metadata": {},
   "source": [
    "## Veranderende systemen\n",
    "Systemen kunnen niet allen veranderen als gevolg van de grondwaterstand (bv. drempel niet-lineariteit), maar ook als gevolg van systeemsveranderingen door de tijd.\n",
    "- Stap response\n",
    "- Lineaire trend\n",
    "- Veranderende respons functies (Obergfjell et al. (2019))."
   ]
  },
  {
   "cell_type": "code",
   "execution_count": 2,
   "metadata": {},
   "outputs": [],
   "source": [
    "# Voorbeeld van model met stap respons"
   ]
  },
  {
   "cell_type": "code",
   "execution_count": 3,
   "metadata": {},
   "outputs": [],
   "source": [
    "# Voorbeeld van model met lineaire trend"
   ]
  },
  {
   "cell_type": "markdown",
   "metadata": {},
   "source": [
    "## Verklarende variabelen\n",
    "Welke verklarende variabelen moeten worden meegenomen \n",
    "\n",
    "- Toetsen van hydrologische plausibiliteit van evenwichtsrelatie (bv. well_A > 0), diagnostisch toetsen noodzakelijk\n",
    "- Lengte van de respons functie\n",
    "- Residuen analyse"
   ]
  },
  {
   "cell_type": "code",
   "execution_count": 4,
   "metadata": {},
   "outputs": [],
   "source": [
    "# Voorbeeld van model met pompput en zonder, significante well_A en niet"
   ]
  },
  {
   "cell_type": "code",
   "execution_count": 6,
   "metadata": {},
   "outputs": [],
   "source": [
    "# Voorbeeld van residuen met een duidelijk trend, alpha >>> groot"
   ]
  },
  {
   "cell_type": "markdown",
   "metadata": {},
   "source": [
    "## Referenties\n",
    "\n",
    "\n"
   ]
  },
  {
   "cell_type": "markdown",
   "metadata": {},
   "source": [
    "## Beschikbaarheid van opties\n",
    "In de volgende tabel wordt een overzicht gegeven welke opties in verschillende software pakketten beschikbaar zijn.\n",
    "\n",
    "|Optie|Pastas|Menyanthes|Hydrosight|\n",
    "|--|--|--|--|\n",
    "|Drempel niet-lineariteit|Ja|Ja|Nee|\n",
    "|niet-lineaire grondwateraanvulling|Ja|Nee|Ja|\n",
    "|Stap respons|Ja|Ja|Onbekend|\n",
    "|Lineaire trend|Ja|Ja|Onbekend|\n",
    "|Veranderende respons|Nee|Nee|Nee|"
   ]
  },
  {
   "cell_type": "code",
   "execution_count": null,
   "metadata": {},
   "outputs": [],
   "source": []
  }
 ],
 "metadata": {
  "kernelspec": {
   "display_name": "Python 3",
   "language": "python",
   "name": "python3"
  },
  "language_info": {
   "codemirror_mode": {
    "name": "ipython",
    "version": 3
   },
   "file_extension": ".py",
   "mimetype": "text/x-python",
   "name": "python",
   "nbconvert_exporter": "python",
   "pygments_lexer": "ipython3",
   "version": "3.7.8"
  }
 },
 "nbformat": 4,
 "nbformat_minor": 4
}
